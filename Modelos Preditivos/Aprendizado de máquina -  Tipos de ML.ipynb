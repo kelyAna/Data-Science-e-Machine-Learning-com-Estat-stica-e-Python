{
 "cells": [
  {
   "cell_type": "markdown",
   "metadata": {},
   "source": [
    "### Aprendizado de máquina"
   ]
  },
  {
   "cell_type": "markdown",
   "metadata": {},
   "source": [
    "<img src=\"imagens/images.jpeg\" width=\"300px\" align=\"left\"><br>"
   ]
  },
  {
   "cell_type": "markdown",
   "metadata": {},
   "source": [
    "**Em 1959, Arthur Samuel definiu aprendizado de máquina como o \"campo de estudo que dá aos computadores a habilidade de aprender sem serem explicitamente programados\".**"
   ]
  },
  {
   "cell_type": "markdown",
   "metadata": {},
   "source": [
    "### 3(três) tipos de aprendizado de máquina\n",
    "* Aprendizagem Supervisionada;\n",
    "* Aprendizagem Não-Supervisionada;\n",
    "* Aprendizagem Reinforçada."
   ]
  },
  {
   "cell_type": "markdown",
   "metadata": {},
   "source": [
    "### Aprendizagem Supervisionada\n",
    "**Aprendizagem supervisionada:** dizemos ao computador o que é cada entrada (qual o label) e ele aprende quais características daquelas entradas fazem elas serem o que são.De acordo com o tipo de resultado do algoritmo, podemos classificá-lo entre algoritmo de classificação ou algoritmo de regressão.\n",
    "\n",
    "* **Tipos de Problemas:** Regressão e Classificação.\n",
    "* **Tipos de Dados:** Dados rotulados\n",
    "* **Treino(Aprendizagem):** Supervisão externa\n",
    "* **Usabilidade:** Prever ou estimar resultados\n",
    "* **Abordagem:** Entrada (Input) rotulado e Saída (Output) conhecida\n",
    "* **Feedback:** Direto (Saída conhecida)\n",
    "* **Algoritmos:**\n",
    "    * Linear Regression\n",
    "    * Logistic Regression\n",
    "    * Support Vector Machine\n",
    "    * K Nearest Neighbour\n",
    "    * Random Forest\n",
    "    * Decision Tree"
   ]
  },
  {
   "cell_type": "markdown",
   "metadata": {},
   "source": [
    "### Aprendizagem Não-Supervisionada\n",
    "\n",
    "A aprendizagem ocorre com dados não rotulados, ou seja, não dizemos ao computador o que é aquela entrada.\n",
    "\n",
    "* **Definição:** a máquina aprende sozinha sem nenhuma supervisão\n",
    "* **Tipos de Problemas:** Associação e Clustering (Agrupamentos)\n",
    "* **Tipos de Dados:** Dados não-rotulados \n",
    "* **Treino(Aprendizagem):** Nenhuma Supervisão\n",
    "* **Usabilidade:** Descobrir padrões e associações\n",
    "* **Abordagem:** Entender padrões e descobrir a saída (output)\n",
    "* **Feedback:** Nenhum\n",
    "* **Algoritmos:**\n",
    "    * K-Means\n",
    "    * Apriori\n",
    "    * C-Means"
   ]
  },
  {
   "cell_type": "markdown",
   "metadata": {},
   "source": [
    "### Aprendizagem Reinforçada\n",
    "**A aprendizagem por reforço** é uma forma de ensinar ao computador qual ação priorizar dada uma determinada situação.\n",
    "\n",
    "* **Definição:** o agente (máquina) interage com o ambiente produzindo ações que dão a ele **punições** e **recompensas**\n",
    "* **Tipos de Problemas:** Labirintos\n",
    "* **Tipos de Dados:** Nenhum Dado Pré-definido\n",
    "* **Treino(Aprendizagem):** Nenhuma supervisão\n",
    "* **Usabilidade:** Aprender uma série de ações \n",
    "* **Abordagem:** Método de Tentativa e Erro \n",
    "* **Feedback:** Recompensa x Punições\n",
    "* **Algoritmos:**\n",
    "    * Q-Learning\n",
    "    * SARSA"
   ]
  },
  {
   "cell_type": "markdown",
   "metadata": {},
   "source": [
    "Fontes: \n"
   ]
  },
  {
   "cell_type": "markdown",
   "metadata": {},
   "source": [
    "https://www.youtube.com/watch?v=xtOg44r6dsE  "
   ]
  },
  {
   "cell_type": "markdown",
   "metadata": {},
   "source": [
    "https://cio.com.br/tendencias/3-tipos-de-aprendizado-caracterizam-o-machine-learning/"
   ]
  },
  {
   "cell_type": "markdown",
   "metadata": {},
   "source": [
    "https://pt.wikipedia.org/wiki/Aprendizado_de_m%C3%A1quina"
   ]
  },
  {
   "cell_type": "code",
   "execution_count": null,
   "metadata": {},
   "outputs": [],
   "source": []
  }
 ],
 "metadata": {
  "kernelspec": {
   "display_name": "Python 3",
   "language": "python",
   "name": "python3"
  },
  "language_info": {
   "codemirror_mode": {
    "name": "ipython",
    "version": 3
   },
   "file_extension": ".py",
   "mimetype": "text/x-python",
   "name": "python",
   "nbconvert_exporter": "python",
   "pygments_lexer": "ipython3",
   "version": "3.7.3"
  }
 },
 "nbformat": 4,
 "nbformat_minor": 2
}
